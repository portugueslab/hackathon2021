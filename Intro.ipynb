{
 "cells": [
  {
   "cell_type": "markdown",
   "metadata": {
    "slideshow": {
     "slide_type": "slide"
    }
   },
   "source": [
    "# Portugues lab Hackathon 2021"
   ]
  },
  {
   "cell_type": "markdown",
   "metadata": {
    "slideshow": {
     "slide_type": "slide"
    }
   },
   "source": [
    "Outlook:\n",
    " 0. Python code from the Portugues lab\n",
    " 1. Hackathon projects\n",
    " 2. Tips/resources/etiquette"
   ]
  },
  {
   "cell_type": "markdown",
   "metadata": {
    "slideshow": {
     "slide_type": "slide"
    }
   },
   "source": [
    "# I. Python code from the Portugues lab"
   ]
  },
  {
   "cell_type": "markdown",
   "metadata": {
    "slideshow": {
     "slide_type": "subslide"
    }
   },
   "source": [
    "### General principles of code organization"
   ]
  },
  {
   "cell_type": "markdown",
   "metadata": {
    "slideshow": {
     "slide_type": "subslide"
    }
   },
   "source": [
    "- a package/repository contains code that absolve to a specific function; eg, analyze imaging data, analyse behavior data, control lightsheet miscrope, etc."
   ]
  },
  {
   "cell_type": "markdown",
   "metadata": {
    "slideshow": {
     "slide_type": "subslide"
    }
   },
   "source": [
    "- when code can be recycled across many packages, it makes sense to put it in separate packages (eg, `split_dataset` or `lightparam`)"
   ]
  },
  {
   "cell_type": "markdown",
   "metadata": {
    "slideshow": {
     "slide_type": "subslide"
    }
   },
   "source": [
    "- we try to separate base code from code that is highly specific for usage in our lab (eg: `stytra` vs `stytra_config`, `fimpy` vs `fimpylab`). "
   ]
  },
  {
   "cell_type": "markdown",
   "metadata": {
    "slideshow": {
     "slide_type": "slide"
    }
   },
   "source": [
    "## Packages developed in the lab"
   ]
  },
  {
   "cell_type": "markdown",
   "metadata": {
    "slideshow": {
     "slide_type": "subslide"
    }
   },
   "source": [
    "## Harware control packages"
   ]
  },
  {
   "cell_type": "markdown",
   "metadata": {
    "slideshow": {
     "slide_type": "subslide"
    }
   },
   "source": [
    "[`stytra`](https://github.com/portugueslab/stytra): package for generating stimuli and tracking behavior. \n",
    "\n",
    "**Status:** stable (improvements welcome!)\n",
    "\n",
    "Used in combination with [`stytra_config`](https://github.com/portugueslab/stytra_config), which contains unpublished stimuli, lab-specific metadata, all our experiment scripts, window for choosing experiment to run.\n",
    "\n"
   ]
  },
  {
   "cell_type": "markdown",
   "metadata": {
    "slideshow": {
     "slide_type": "subslide"
    }
   },
   "source": [
    "[`sashimi`](https://github.com/portugueslab/sashimi): package for the control of the lightsheet microscope\n",
    "\n",
    "**Status:** in (advanced) development"
   ]
  },
  {
   "cell_type": "markdown",
   "metadata": {
    "slideshow": {
     "slide_type": "subslide"
    }
   },
   "source": [
    "[`brunoise`](https://github.com/portugueslab/brunoise): package for the control of the 2p microscope\n",
    "\n",
    "**Status:**  in development"
   ]
  },
  {
   "cell_type": "markdown",
   "metadata": {
    "slideshow": {
     "slide_type": "slide"
    }
   },
   "source": [
    "## Data analysis packages"
   ]
  },
  {
   "cell_type": "markdown",
   "metadata": {
    "slideshow": {
     "slide_type": "subslide"
    }
   },
   "source": [
    "[`bouter`](https://github.com/portugueslab/bouter): package with classes and functions to analyse behavioral data.\n",
    "\n",
    "**Status:** stable (improvements welcome!)\n",
    "\n",
    "\n",
    "Should be used in combination with [`bouterin`](https://github.com/portugueslab/bouterin), with code specific for lab experiments."
   ]
  },
  {
   "cell_type": "markdown",
   "metadata": {
    "slideshow": {
     "slide_type": "subslide"
    }
   },
   "source": [
    "[`fimpy`](https://github.com/portugueslab/fimpy): package with classes and functions to analyse behavioral data.\n",
    "\n",
    "**Status:** we need to finish moving the code from what is now `fimpyold`.\n",
    "\n",
    "Used in combination with [`fimpylab`](https://github.com/portugueslab/fimpylab), with code specific for lab experiments. Consider merging with `bouterin`?"
   ]
  },
  {
   "cell_type": "markdown",
   "metadata": {
    "slideshow": {
     "slide_type": "slide"
    }
   },
   "source": [
    "## Core utilities packages:"
   ]
  },
  {
   "cell_type": "markdown",
   "metadata": {
    "slideshow": {
     "slide_type": "subslide"
    }
   },
   "source": [
    "[`lightparam`](https://github.com/portugueslab/lightparam): package for handling parameters (saving/restoring) and generating GUIs/sub-GUIs to control them \n",
    "\n",
    "Used extensively used in `stytra`, `sashimi`, `brunoise`.\n",
    "\n",
    "**Status:** stable (improvements welcome!)"
   ]
  },
  {
   "cell_type": "markdown",
   "metadata": {
    "slideshow": {
     "slide_type": "subslide"
    }
   },
   "source": [
    "[`split_dataset`](https://github.com/portugueslab/split_dataset): package to deal with the reading/writing of imaging dataset in the split `.h5` files lab standard format.\n",
    "\n",
    "Used in `sashimi`, `brunoise`, `fimpy`\n",
    "\n",
    "**Status:** stable (improvements welcome!)"
   ]
  },
  {
   "cell_type": "markdown",
   "metadata": {
    "slideshow": {
     "slide_type": "subslide"
    }
   },
   "source": [
    "[`arrayqueues`](https://github.com/portugueslab/arrayqueues): package with a Queue optimized for performance, to dispatch rapidly large arrays like frames between processes.\n",
    "\n",
    "Used in `stytra`, `sashimi`, `brunoise`.\n",
    "\n",
    "**Status:** stable (improvements welcome!)"
   ]
  },
  {
   "cell_type": "markdown",
   "metadata": {
    "slideshow": {
     "slide_type": "subslide"
    }
   },
   "source": [
    "[`scopecuisine`](https://github.com/portugueslab/scopecuisine): package with code used in both `sashimi` and `bruniose`.\n",
    "\n",
    "Used in `sashimi`, `brunoise`.\n",
    "\n",
    "**Status:** in development"
   ]
  },
  {
   "cell_type": "markdown",
   "metadata": {
    "slideshow": {
     "slide_type": "subslide"
    }
   },
   "source": [
    "[`flammkuchen`](https://github.com/portugueslab/flammkuchen): a branch from [deepdish](https://github.com/uchicago-cs/deepdish) maintained by the lab, to save .h5 files supporting types like pandas datasframes. \n",
    "\n",
    "Used in `stytra`, `sashimi`, `brunoise`.\n",
    "\n",
    "**Status:** stable"
   ]
  },
  {
   "cell_type": "markdown",
   "metadata": {
    "slideshow": {
     "slide_type": "slide"
    }
   },
   "source": [
    "# 1. Hackathon projects"
   ]
  },
  {
   "cell_type": "markdown",
   "metadata": {
    "slideshow": {
     "slide_type": "slide"
    }
   },
   "source": [
    "Projects overview:\n",
    "\n",
    "- Stytra new tracking methods\n",
    "- `napari` plugin for split datasets\n",
    "- cleanup of the morphing repo\n",
    "- finish transitioning `fimpyold` to `fimpy`, plus docs and tutorials\n",
    "- `Sashimi` planar mode"
   ]
  },
  {
   "cell_type": "markdown",
   "metadata": {
    "slideshow": {
     "slide_type": "subslide"
    }
   },
   "source": [
    "### Tracking methods to Stytra\n",
    "\n",
    "**Aims:**\n",
    "- Add new tracking methods (drosophila; freely swimming + eyes)\n",
    "- check current documentation on custom tracking, add more if needed\n",
    "\n",
    "**Bonus aims:**\n",
    "- write tests\n",
    "- fix stytra trigger bug (unrelated but important)\n",
    "\n",
    "**Notes/tips:**\n",
    "- start from the tutorial in stytra examples\n",
    "- there is a preliminary version of eye tracking from Duncan's paper/branch"
   ]
  },
  {
   "cell_type": "markdown",
   "metadata": {
    "slideshow": {
     "slide_type": "subslide"
    }
   },
   "source": [
    "### `napari` plugin for split datasets\n",
    "\n",
    "**Aims:**\n",
    "- Write a plugin to support drag&drop split dataset/h5 files opening in napari\n",
    "- Develop a full package with tests/documentation/automatic deployment to make it `pip`-installable\n",
    "\n",
    "**Bonus aims:**\n",
    "- support also single h5 files and stytra-generated metadata\n",
    "\n",
    "**Notes/tips:**\n",
    "- napari has [extensive documentation](https://napari.org/docs/0.3.8/plugins/index.html) to create plugins;\n",
    "- rely on the `SplitDataset` method `as_dask()`, as [dask arrays](https://docs.dask.org/en/latest/array.html) should be supported in  `napari`"
   ]
  },
  {
   "cell_type": "markdown",
   "metadata": {
    "slideshow": {
     "slide_type": "subslide"
    }
   },
   "source": [
    "## Cleanup of the morphing repo (linked to `fimpy` transitioning)\n",
    "\n",
    "**Aims:**\n",
    "- Bring the [existing repository](https://github.com/portugueslab/functional-to-reference) with notebooks and utitiles for the morphing to a state where it is more straightforward to use\n",
    "- Write full instructions to deterministically run the procedure, finding a way to deal with the WSL for `AntsPyx`\n",
    "- consider moving functions to fimpy/ integrate in fimpy workflow\n",
    "\n",
    "\n",
    "**Bonus aims:**\n",
    "- run some precise comparison between `AntsPyx` and `dipy`\n",
    "\n",
    "**Notes/tips:**\n",
    "- most material should be already in the existing repo;\n",
    "- [those instructions](https://gist.github.com/kauffmanes/5e74916617f9993bc3479f401dfec7da) can be useful \n"
   ]
  },
  {
   "cell_type": "markdown",
   "metadata": {
    "slideshow": {
     "slide_type": "subslide"
    }
   },
   "source": [
    "## Transitioning (linked to morphing repo)\n",
    "\n",
    "**Aims:**\n",
    "- finish transitioning `fimpyold` to `fimpy`;\n",
    "- add docs for the transitioned functions; \n",
    "- make little tutorial notebooks with standard usage cases\n",
    "\n",
    "**Bonus aims:**\n",
    "- write tests;\n",
    "- move deployment to GitHub actions\n",
    "\n",
    "\n",
    "**Notes/tips:**\n",
    "- `fimpyold` already contains some tutorials\n",
    "\n"
   ]
  },
  {
   "cell_type": "markdown",
   "metadata": {
    "slideshow": {
     "slide_type": "subslide"
    }
   },
   "source": [
    "## `Sashimi` planar mode\n",
    "\n",
    "**Aims:**\n",
    "- support a mode for planar acquisition with disabled scanning in `sashimi`;\n",
    "- support a no-stytra trigger mode for `sashimi`\n",
    "\n",
    "**Bonus aims:**\n",
    "- generate schema of architecture of `sashimi`\n",
    "- document stuff in the process\n",
    "\n",
    "\n",
    "**Notes/tips:**\n",
    "- The first step will be to help out Diego with [this PR](https://github.com/portugueslab/sashimi/pull/112)"
   ]
  },
  {
   "cell_type": "markdown",
   "metadata": {
    "slideshow": {
     "slide_type": "slide"
    }
   },
   "source": [
    "# Recommandations"
   ]
  },
  {
   "cell_type": "markdown",
   "metadata": {
    "slideshow": {
     "slide_type": "subslide"
    }
   },
   "source": [
    "Balance learning & making progresses, both things are important! But for this week, keep a bias toward the former :)"
   ]
  },
  {
   "cell_type": "markdown",
   "metadata": {
    "slideshow": {
     "slide_type": "subslide"
    }
   },
   "source": [
    "Try to always work collaboratively; if tasks can be split, do it; otherwise, think about the way you maximise involvement of the less experienced members of the group (eg, have them do the actual typing while sharing the screen, so that they don't get lost by you working too fast)."
   ]
  },
  {
   "cell_type": "markdown",
   "metadata": {
    "slideshow": {
     "slide_type": "subslide"
    }
   },
   "source": [
    "Make sure you read the tutorial on [how to deal with bugs](https://github.com/portugueslab/hackathon2021/blob/main/How_to_deal_with_bugs.md). There will be a lot to deal with this week!"
   ]
  },
  {
   "cell_type": "markdown",
   "metadata": {
    "slideshow": {
     "slide_type": "subslide"
    }
   },
   "source": [
    "For this week, try to report on the relative GitHub issues section of a package any problem that you encounter while using it!"
   ]
  },
  {
   "cell_type": "markdown",
   "metadata": {
    "slideshow": {
     "slide_type": "subslide"
    }
   },
   "source": [
    "Don't be shy in showing your code and proposing solutions, no matter who you are talking with."
   ]
  },
  {
   "cell_type": "markdown",
   "metadata": {
    "slideshow": {
     "slide_type": "subslide"
    }
   },
   "source": [
    "Use always a respectful tone about other people's work..."
   ]
  },
  {
   "cell_type": "markdown",
   "metadata": {},
   "source": [
    "..but don't be afraid of questioning their solutions and discuss whether they can be improved. "
   ]
  },
  {
   "cell_type": "code",
   "execution_count": null,
   "metadata": {},
   "outputs": [],
   "source": []
  }
 ],
 "metadata": {
  "celltoolbar": "Slideshow",
  "kernelspec": {
   "display_name": "rplab",
   "language": "python",
   "name": "rplab"
  },
  "language_info": {
   "codemirror_mode": {
    "name": "ipython",
    "version": 3
   },
   "file_extension": ".py",
   "mimetype": "text/x-python",
   "name": "python",
   "nbconvert_exporter": "python",
   "pygments_lexer": "ipython3",
   "version": "3.8.3"
  }
 },
 "nbformat": 4,
 "nbformat_minor": 4
}
