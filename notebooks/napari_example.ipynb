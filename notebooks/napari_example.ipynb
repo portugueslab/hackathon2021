{
 "cells": [
  {
   "cell_type": "markdown",
   "metadata": {},
   "source": [
    "### Basic use of napari"
   ]
  },
  {
   "cell_type": "code",
   "execution_count": null,
   "metadata": {},
   "outputs": [],
   "source": [
    "import numpy as np\n",
    "from split_dataset import SplitDataset\n",
    "from pathlib import Path\n",
    "from skimage import io as skio\n",
    "import flammkuchen as fl\n",
    "from tifffile import imread"
   ]
  },
  {
   "cell_type": "code",
   "execution_count": null,
   "metadata": {},
   "outputs": [],
   "source": [
    "%gui qt5\n",
    "import napari"
   ]
  },
  {
   "cell_type": "markdown",
   "metadata": {},
   "source": [
    "#### Loading example tiff file and h5 data set"
   ]
  },
  {
   "cell_type": "code",
   "execution_count": null,
   "metadata": {},
   "outputs": [],
   "source": [
    "path = Path(\"...\")\n",
    "anatomy = imread(path / \"anatomy.tif\")\n",
    "dataset = SplitDataset(path / \"aligned\")[:, :, :, :]"
   ]
  },
  {
   "cell_type": "markdown",
   "metadata": {},
   "source": [
    "#### Creating a napari viewer "
   ]
  },
  {
   "cell_type": "code",
   "execution_count": null,
   "metadata": {},
   "outputs": [],
   "source": [
    "viewer = napari.Viewer(title=f\"Dataset browser: {path.name}\")\n",
    "viewer.add_image(anatomy)\n",
    "\n",
    "# Another option:\n",
    "#viewer = napari.view_image(anatomy)"
   ]
  },
  {
   "cell_type": "markdown",
   "metadata": {},
   "source": [
    "#### Adding other layers to the viewer "
   ]
  },
  {
   "cell_type": "code",
   "execution_count": null,
   "metadata": {},
   "outputs": [],
   "source": [
    "# adding a second image layer\n",
    "viewer.add_image(dataset, name=\"aligned\")"
   ]
  },
  {
   "cell_type": "code",
   "execution_count": null,
   "metadata": {},
   "outputs": [],
   "source": [
    "# Adding a labels layer \n",
    "rois = fl.load(path / \"merged_rois_.h5\")['stack_3D']\n",
    "label_layer = napari.layers.Labels(rois, name=\"Fimpy ROIs\")\n",
    "viewer.add_layer(label_layer)"
   ]
  },
  {
   "cell_type": "markdown",
   "metadata": {},
   "source": [
    "#### Getting data from the viewer "
   ]
  },
  {
   "cell_type": "code",
   "execution_count": null,
   "metadata": {},
   "outputs": [],
   "source": [
    "## Only after manually adding a labels layer from the viewer\n",
    "new_label_layer = viewer.layers[\"Labels\"].data"
   ]
  },
  {
   "cell_type": "code",
   "execution_count": null,
   "metadata": {},
   "outputs": [],
   "source": [
    "print(type(new_label_layer))\n",
    "print(np.shape(new_label_layer))"
   ]
  },
  {
   "cell_type": "markdown",
   "metadata": {},
   "source": [
    "#### Loading a 3D dataset with correct proportions"
   ]
  },
  {
   "cell_type": "code",
   "execution_count": null,
   "metadata": {},
   "outputs": [],
   "source": [
    "path = Path(\"...\")\n",
    "anatomy = imread(path / \"anatomy3.tif\")\n",
    "viewer_3d = napari.Viewer(title='Viewer 3D')\n",
    "viewer_3d.add_image(anatomy, scale=[8,1,1])"
   ]
  },
  {
   "cell_type": "code",
   "execution_count": null,
   "metadata": {},
   "outputs": [],
   "source": [
    "viewer_3d_2 = napari.Viewer(title='Viewer 3D 2')\n",
    "viewer_3d_2.add_image(dataset, scale=[10,1,1])"
   ]
  },
  {
   "cell_type": "code",
   "execution_count": null,
   "metadata": {},
   "outputs": [],
   "source": [
    "## Only after manually adding a shapes layer from the viewer\n",
    "new_shapes_layer = viewer_3d.layers[\"Shapes\"].data"
   ]
  },
  {
   "cell_type": "code",
   "execution_count": null,
   "metadata": {},
   "outputs": [],
   "source": [
    "print(type(new_shapes_layer))\n",
    "new_shapes_layer[1]"
   ]
  },
  {
   "cell_type": "markdown",
   "metadata": {},
   "source": [
    "#### Other layers (napari >= 0.4)"
   ]
  },
  {
   "cell_type": "code",
   "execution_count": null,
   "metadata": {},
   "outputs": [],
   "source": [
    "#surface_layer\n",
    "#tracks_layer\n",
    "#vectors_layer "
   ]
  },
  {
   "cell_type": "code",
   "execution_count": null,
   "metadata": {},
   "outputs": [],
   "source": []
  }
 ],
 "metadata": {
  "kernelspec": {
   "display_name": "Python 3",
   "language": "python",
   "name": "python3"
  },
  "language_info": {
   "codemirror_mode": {
    "name": "ipython",
    "version": 3
   },
   "file_extension": ".py",
   "mimetype": "text/x-python",
   "name": "python",
   "nbconvert_exporter": "python",
   "pygments_lexer": "ipython3",
   "version": "3.7.6"
  }
 },
 "nbformat": 4,
 "nbformat_minor": 4
}
